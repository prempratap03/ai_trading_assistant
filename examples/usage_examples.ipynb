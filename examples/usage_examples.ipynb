{
 "cells": [
  {
   "cell_type": "markdown",
   "metadata": {},
   "source": [
    "# AI Trading Assistant - Usage Examples\n",
    "This notebook demonstrates how to use the various modules of the AI Trading Assistant.\n",
    "\n",
    "**Team Members:**\n",
    "- Prem Pratap (22070126078)\n",
    "- Punit Chetwani (22070126079)\n",
    "- Zaheer Khan (22070126066)"
   ]
  },
  {
   "cell_type": "code",
   "execution_count": null,
   "metadata": {},
   "outputs": [],
   "source": [
    "# Import required libraries\n",
    "import sys\n",
    "sys.path.insert(0, '../src/lib')\n",
    "\n",
    "import pandas as pd\n",
    "import numpy as np\n",
    "from datetime import datetime, timedelta\n",
    "\n",
    "from data_fetcher import StockDataFetcher\n",
    "from ml_models import LSTMPredictor, ProphetPredictor\n",
    "from portfolio_optimizer import PortfolioOptimizer\n",
    "from risk_analyzer import RiskAnalyzer\n",
    "from technical_indicators import TechnicalIndicators\n",
    "from sentiment_analyzer import SentimentAnalyzer\n",
    "from visualizations import FinancialVisualizer"
   ]
  },
  {
   "cell_type": "markdown",
   "metadata": {},
   "source": [
    "## 1. Data Fetching"
   ]
  },
  {
   "cell_type": "code",
   "execution_count": null,
   "metadata": {},
   "outputs": [],
   "source": [
    "# Initialize data fetcher\n",
    "fetcher = StockDataFetcher()\n",
    "\n",
    "# Fetch stock data\n",
    "ticker = 'AAPL'\n",
    "data = fetcher.get_stock_data(ticker, period='1y')\n",
    "\n",
    "print(f\"Fetched {len(data)} records for {ticker}\")\n",
    "data.head()"
   ]
  },
  {
   "cell_type": "markdown",
   "metadata": {},
   "source": [
    "## 2. Technical Indicators"
   ]
  },
  {
   "cell_type": "code",
   "execution_count": null,
   "metadata": {},
   "outputs": [],
   "source": [
    "# Calculate technical indicators\n",
    "signals = TechnicalIndicators.generate_trading_signals(data)\n",
    "\n",
    "# Display latest signals\n",
    "print(\"Latest Trading Signals:\")\n",
    "print(f\"RSI: {signals['RSI'].iloc[-1]:.2f}\")\n",
    "print(f\"MACD: {signals['MACD'].iloc[-1]:.4f}\")\n",
    "print(f\"Overall Signal: {signals['Overall_Signal'].iloc[-1]}\")\n",
    "\n",
    "signals.tail()"
   ]
  },
  {
   "cell_type": "markdown",
   "metadata": {},
   "source": [
    "## 3. Risk Analysis"
   ]
  },
  {
   "cell_type": "code",
   "execution_count": null,
   "metadata": {},
   "outputs": [],
   "source": [
    "# Initialize risk analyzer\n",
    "analyzer = RiskAnalyzer(risk_free_rate=0.02)\n",
    "\n",
    "# Get comprehensive risk report\n",
    "risk_report = analyzer.comprehensive_risk_report(data)\n",
    "\n",
    "print(\"Risk Metrics:\")\n",
    "for metric, value in risk_report.items():\n",
    "    if isinstance(value, (int, float)):\n",
    "        print(f\"{metric}: {value:.4f}\")"
   ]
  },
  {
   "cell_type": "markdown",
   "metadata": {},
   "source": [
    "## 4. Portfolio Optimization"
   ]
  },
  {
   "cell_type": "code",
   "execution_count": null,
   "metadata": {},
   "outputs": [],
   "source": [
    "# Fetch data for multiple stocks\n",
    "tickers = ['AAPL', 'MSFT', 'GOOGL', 'AMZN']\n",
    "stock_data = {}\n",
    "\n",
    "for ticker in tickers:\n",
    "    stock_data[ticker] = fetcher.get_stock_data(ticker, period='1y')\n",
    "\n",
    "# Initialize optimizer\n",
    "optimizer = PortfolioOptimizer(risk_free_rate=0.02)\n",
    "returns = optimizer.prepare_data(stock_data)\n",
    "\n",
    "# Find optimal portfolio\n",
    "max_sharpe = optimizer.optimize_sharpe()\n",
    "\n",
    "print(\"\\nMaximum Sharpe Ratio Portfolio:\")\n",
    "print(f\"Expected Return: {max_sharpe['return']*100:.2f}%\")\n",
    "print(f\"Volatility: {max_sharpe['volatility']*100:.2f}%\")\n",
    "print(f\"Sharpe Ratio: {max_sharpe['sharpe_ratio']:.4f}\")\n",
    "print(\"\\nAllocation:\")\n",
    "for ticker, weight in max_sharpe['weights'].items():\n",
    "    print(f\"{ticker}: {weight*100:.2f}%\")"
   ]
  },
  {
   "cell_type": "markdown",
   "metadata": {},
   "source": [
    "## 5. Price Prediction with LSTM"
   ]
  },
  {
   "cell_type": "code",
   "execution_count": null,
   "metadata": {},
   "outputs": [],
   "source": [
    "# Note: This requires TensorFlow to be installed\n",
    "try:\n",
    "    # Initialize LSTM model\n",
    "    lstm_model = LSTMPredictor(lookback=60, units=50)\n",
    "    \n",
    "    # Train model\n",
    "    print(\"Training LSTM model...\")\n",
    "    metrics = lstm_model.train(data, epochs=10, batch_size=32)\n",
    "    \n",
    "    print(\"\\nTraining Metrics:\")\n",
    "    print(f\"RMSE: {metrics['rmse']:.2f}\")\n",
    "    print(f\"MAE: {metrics['mae']:.2f}\")\n",
    "    print(f\"R² Score: {metrics['r2']:.4f}\")\n",
    "    \n",
    "    # Make predictions\n",
    "    predictions = lstm_model.predict(data, days=30)\n",
    "    print(\"\\nPredictions for next 5 days:\")\n",
    "    print(predictions.head())\n",
    "    \n",
    "except ImportError:\n",
    "    print(\"TensorFlow not installed. Skipping LSTM example.\")"
   ]
  },
  {
   "cell_type": "markdown",
   "metadata": {},
   "source": [
    "## 6. Sentiment Analysis"
   ]
  },
  {
   "cell_type": "code",
   "execution_count": null,
   "metadata": {},
   "outputs": [],
   "source": [
    "# Initialize sentiment analyzer\n",
    "sentiment = SentimentAnalyzer()\n",
    "\n",
    "# Sample headlines\n",
    "headlines = [\n",
    "    \"Apple stock surges on strong earnings report\",\n",
    "    \"Tech sector faces regulatory concerns\",\n",
    "    \"Apple announces breakthrough innovation\",\n",
    "    \"Market volatility continues amid uncertainty\",\n",
    "    \"Apple maintains steady growth trajectory\"\n",
    "]\n",
    "\n",
    "# Analyze sentiment\n",
    "sentiment_df = sentiment.analyze_headlines(headlines)\n",
    "agg_sentiment = sentiment.aggregate_sentiment(sentiment_df)\n",
    "\n",
    "print(\"Sentiment Analysis Results:\")\n",
    "print(f\"Overall Mood: {agg_sentiment['overall_mood']}\")\n",
    "print(f\"Average Sentiment: {agg_sentiment['average_sentiment']:.3f}\")\n",
    "print(f\"Positive Ratio: {agg_sentiment['positive_ratio']*100:.1f}%\")\n",
    "\n",
    "sentiment_df"
   ]
  },
  {
   "cell_type": "markdown",
   "metadata": {},
   "source": [
    "## 7. Visualizations"
   ]
  },
  {
   "cell_type": "code",
   "execution_count": null,
   "metadata": {},
   "outputs": [],
   "source": [
    "# Initialize visualizer\n",
    "viz = FinancialVisualizer()\n",
    "\n",
    "# Create candlestick chart\n",
    "fig1 = viz.plot_candlestick(data, f\"{ticker} Price Chart\")\n",
    "fig1.show()\n",
    "\n",
    "# Create technical indicators chart\n",
    "fig2 = viz.plot_technical_indicators(signals, f\"{ticker} Technical Analysis\")\n",
    "fig2.show()\n",
    "\n",
    "# Create portfolio allocation chart\n",
    "fig3 = viz.plot_portfolio_allocation(\n",
    "    max_sharpe['weights'],\n",
    "    \"Optimal Portfolio Allocation\"\n",
    ")\n",
    "fig3.show()"
   ]
  },
  {
   "cell_type": "markdown",
   "metadata": {},
   "source": [
    "## 8. Complete Analysis Pipeline"
   ]
  },
  {
   "cell_type": "code",
   "execution_count": null,
   "metadata": {},
   "outputs": [],
   "source": [
    "def analyze_stock(ticker, period='1y'):\n",
    "    \"\"\"Complete analysis pipeline for a stock.\"\"\"\n",
    "    \n",
    "    print(f\"\\n{'='*60}\")\n",
    "    print(f\"Complete Analysis for {ticker}\")\n",
    "    print(f\"{'='*60}\\n\")\n",
    "    \n",
    "    # 1. Fetch data\n",
    "    fetcher = StockDataFetcher()\n",
    "    data = fetcher.get_stock_data(ticker, period=period)\n",
    "    \n",
    "    if data.empty:\n",
    "        print(\"No data available\")\n",
    "        return\n",
    "    \n",
    "    # 2. Calculate technical indicators\n",
    "    signals = TechnicalIndicators.generate_trading_signals(data)\n",
    "    latest_signal = signals.iloc[-1]\n",
    "    \n",
    "    print(\"1. TRADING SIGNALS\")\n",
    "    print(f\"   Overall Signal: {latest_signal['Overall_Signal']}\")\n",
    "    print(f\"   RSI: {latest_signal['RSI']:.2f}\")\n",
    "    print(f\"   MACD Signal: {latest_signal['MACD_Signal']}\")\n",
    "    \n",
    "    # 3. Risk analysis\n",
    "    analyzer = RiskAnalyzer()\n",
    "    risk_report = analyzer.comprehensive_risk_report(data)\n",
    "    \n",
    "    print(\"\\n2. RISK METRICS\")\n",
    "    print(f\"   Volatility: {risk_report['volatility']*100:.2f}%\")\n",
    "    print(f\"   Sharpe Ratio: {risk_report['sharpe_ratio']:.4f}\")\n",
    "    print(f\"   Max Drawdown: {risk_report['max_drawdown']*100:.2f}%\")\n",
    "    print(f\"   VaR (95%): {risk_report['var_95']*100:.2f}%\")\n",
    "    \n",
    "    # 4. Performance metrics\n",
    "    returns = data['Close'].pct_change().dropna()\n",
    "    cumulative_return = (1 + returns).prod() - 1\n",
    "    \n",
    "    print(\"\\n3. PERFORMANCE\")\n",
    "    print(f\"   Cumulative Return: {cumulative_return*100:.2f}%\")\n",
    "    print(f\"   Annualized Return: {returns.mean()*252*100:.2f}%\")\n",
    "    \n",
    "    print(f\"\\n{'='*60}\\n\")\n",
    "\n",
    "# Analyze a stock\n",
    "analyze_stock('AAPL')"
   ]
  },
  {
   "cell_type": "markdown",
   "metadata": {},
   "source": [
    "## Conclusion\n",
    "\n",
    "This notebook demonstrates the key functionalities of the AI Trading Assistant:\n",
    "- Stock data fetching\n",
    "- Technical indicator calculation\n",
    "- Risk analysis\n",
    "- Portfolio optimization\n",
    "- Price prediction\n",
    "- Sentiment analysis\n",
    "- Interactive visualizations\n",
    "\n",
    "For the full application with an interactive UI, run the Streamlit app:\n",
    "```bash\n",
    "streamlit run src/main.py\n",
    "```"
   ]
  }
 ],
 "metadata": {
  "kernelspec": {
   "display_name": "Python 3",
   "language": "python",
   "name": "python3"
  },
  "language_info": {
   "codemirror_mode": {
    "name": "ipython",
    "version": 3
   },
   "file_extension": ".py",
   "mimetype": "text/x-python",
   "name": "python",
   "nbconvert_exporter": "python",
   "pygments_lexer": "ipython3",
   "version": "3.9.0"
  }
 },
 "nbformat": 4,
 "nbformat_minor": 4
}
